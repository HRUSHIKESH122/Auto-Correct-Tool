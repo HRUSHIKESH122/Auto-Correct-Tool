{
 "cells": [
  {
   "cell_type": "code",
   "execution_count": null,
   "id": "93347667",
   "metadata": {},
   "outputs": [
    {
     "name": "stderr",
     "output_type": "stream",
     "text": [
      "[nltk_data] Downloading package words to C:\\Users\\Raviraj\n",
      "[nltk_data]     D\\AppData\\Roaming\\nltk_data...\n",
      "[nltk_data]   Package words is already up-to-date!\n"
     ]
    },
    {
     "name": "stdout",
     "output_type": "stream",
     "text": [
      "Enter a word (type 'exit' to stop): hello\n",
      "Input Word: hello\n",
      "Corrected Word: hello\n",
      "Enter a word (type 'exit' to stop): helop\n",
      "Input Word: helop\n",
      "Corrected Word: heloe\n",
      "Enter a word (type 'exit' to stop): rlse\n",
      "Input Word: rlse\n",
      "Corrected Word: else\n"
     ]
    }
   ],
   "source": [
    "#!/usr/bin/env python\n",
    "# coding: utf-8\n",
    "\n",
    "# # Bharat Intern Artifical Intelligence Internship\n",
    "\n",
    "# # TASK 2: AUTO CORRECT TOOL\n",
    "\n",
    "# ## BY HRUSHIKESH S\n",
    "\n",
    "# In[1]:\n",
    "\n",
    "\n",
    "import nltk\n",
    "from nltk.corpus import words\n",
    "from nltk.metrics.distance import edit_distance\n",
    "\n",
    "\n",
    "# ## Download NLTK resources (if not already downloaded)\n",
    "# \n",
    "\n",
    "# In[2]:\n",
    "\n",
    "\n",
    "nltk.download('words')\n",
    "\n",
    "\n",
    "# ## Load the English words corpus\n",
    "# \n",
    "\n",
    "# In[ ]:\n",
    "\n",
    "\n",
    "english_words = set(words.words())\n",
    "def auto_correct(word):\n",
    "    word = word.lower()  \n",
    "    if word in english_words:\n",
    "        return word\n",
    "    # Find the closest word using edit distance\n",
    "    min_distance = float('inf')\n",
    "    closest_word = None\n",
    "\n",
    "    for w in english_words:\n",
    "        distance = edit_distance(word, w)\n",
    "        if distance < min_distance:\n",
    "            min_distance = distance\n",
    "            closest_word = w\n",
    "    return closest_word\n",
    "while True:\n",
    "    input_word = input(\"Enter a word (type 'exit' to stop): \")\n",
    "\n",
    "    if input_word.lower() == 'exit':\n",
    "        break\n",
    "    corrected_word = auto_correct(input_word)\n",
    "    print(\"Input Word:\", input_word)\n",
    "    print(\"Corrected Word:\", corrected_word)\n",
    "\n",
    "\n",
    "# # Thank you"
   ]
  },
  {
   "cell_type": "code",
   "execution_count": null,
   "id": "d4a74318",
   "metadata": {},
   "outputs": [],
   "source": []
  },
  {
   "cell_type": "code",
   "execution_count": null,
   "id": "f97a3f6f",
   "metadata": {},
   "outputs": [],
   "source": []
  }
 ],
 "metadata": {
  "kernelspec": {
   "display_name": "Python 3 (ipykernel)",
   "language": "python",
   "name": "python3"
  },
  "language_info": {
   "codemirror_mode": {
    "name": "ipython",
    "version": 3
   },
   "file_extension": ".py",
   "mimetype": "text/x-python",
   "name": "python",
   "nbconvert_exporter": "python",
   "pygments_lexer": "ipython3",
   "version": "3.11.3"
  }
 },
 "nbformat": 4,
 "nbformat_minor": 5
}
